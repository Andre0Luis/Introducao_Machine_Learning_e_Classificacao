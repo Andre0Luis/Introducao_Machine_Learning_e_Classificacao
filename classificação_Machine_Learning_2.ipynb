{
  "nbformat": 4,
  "nbformat_minor": 0,
  "metadata": {
    "colab": {
      "name": "classificação_Machine_Learning_2.ipynb",
      "provenance": [],
      "authorship_tag": "ABX9TyN1Uv0loe644LUfQVORfgiI",
      "include_colab_link": true
    },
    "kernelspec": {
      "name": "python3",
      "display_name": "Python 3"
    },
    "language_info": {
      "name": "python"
    }
  },
  "cells": [
    {
      "cell_type": "markdown",
      "metadata": {
        "id": "view-in-github",
        "colab_type": "text"
      },
      "source": [
        "<a href=\"https://colab.research.google.com/github/Andre0Luis/introducao_Machine_Learning_e_Classificacao/blob/main/classifica%C3%A7%C3%A3o_Machine_Learning_2.ipynb\" target=\"_parent\"><img src=\"https://colab.research.google.com/assets/colab-badge.svg\" alt=\"Open In Colab\"/></a>"
      ]
    },
    {
      "cell_type": "code",
      "execution_count": null,
      "metadata": {
        "id": "cWx6Xx5YO9j-"
      },
      "outputs": [],
      "source": [
        ""
      ]
    }
  ]
}