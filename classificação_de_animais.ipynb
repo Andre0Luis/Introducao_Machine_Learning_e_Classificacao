{
  "nbformat": 4,
  "nbformat_minor": 0,
  "metadata": {
    "colab": {
      "name": "classificação_de_animais.ipynb",
      "provenance": [],
      "collapsed_sections": [],
      "authorship_tag": "ABX9TyP7lVLL2vVPQSKQ4bn+yZK9",
      "include_colab_link": true
    },
    "kernelspec": {
      "name": "python3",
      "display_name": "Python 3"
    },
    "language_info": {
      "name": "python"
    }
  },
  "cells": [
    {
      "cell_type": "markdown",
      "metadata": {
        "id": "view-in-github",
        "colab_type": "text"
      },
      "source": [
        "<a href=\"https://colab.research.google.com/github/Andre0Luis/classificacao_de_animais_Machine_Learning/blob/main/classifica%C3%A7%C3%A3o_de_animais.ipynb\" target=\"_parent\"><img src=\"https://colab.research.google.com/assets/colab-badge.svg\" alt=\"Open In Colab\"/></a>"
      ]
    },
    {
      "cell_type": "code",
      "execution_count": 33,
      "metadata": {
        "id": "cgzwJ9PoYPTp"
      },
      "outputs": [],
      "source": [
        "# features (1 sim, 0 não)\n",
        "# pelo longo?\n",
        "# perna curta\n",
        "# faz auauau?\n",
        "\n",
        "porco1 = [0, 1, 0]\n",
        "porco2 = [0, 1, 1]\n",
        "porco3 = [1, 0, 1]\n",
        "\n",
        "cachorro1 = [0, 1, 1]\n",
        "cachorro2 = [1, 0, 1]\n",
        "cachorro3 = [1, 1, 1]\n",
        "\n",
        "# 1 => porco, 0 => cachorro\n",
        "dados = [porco1, porco2, porco3, cachorro1, cachorro2, cachorro3]\n",
        "classes = [1, 1, 1, 0, 0, 0]\n",
        "\n",
        "\n"
      ]
    },
    {
      "cell_type": "code",
      "source": [
        "from sklearn.svm import LinearSVC\n",
        "\n",
        "model = LinearSVC()\n",
        "model.fit(dados, classes)"
      ],
      "metadata": {
        "colab": {
          "base_uri": "https://localhost:8080/"
        },
        "id": "ZAbTtCh8btIr",
        "outputId": "ab18adf5-f4fb-432f-bde6-61ded0b98080"
      },
      "execution_count": 34,
      "outputs": [
        {
          "output_type": "execute_result",
          "data": {
            "text/plain": [
              "LinearSVC()"
            ]
          },
          "metadata": {},
          "execution_count": 34
        }
      ]
    },
    {
      "cell_type": "code",
      "source": [
        "animal_misterioso = [1, 1, 1]\n",
        "model.predict([animal_misterioso])"
      ],
      "metadata": {
        "colab": {
          "base_uri": "https://localhost:8080/"
        },
        "id": "b9VQve0ncLF_",
        "outputId": "09721edb-2770-466f-f7e8-a743e20d001f"
      },
      "execution_count": 35,
      "outputs": [
        {
          "output_type": "execute_result",
          "data": {
            "text/plain": [
              "array([0])"
            ]
          },
          "metadata": {},
          "execution_count": 35
        }
      ]
    },
    {
      "cell_type": "code",
      "source": [
        "misterio1 = [1,1,1]\n",
        "misterio2 = [1,1,0]\n",
        "misterio3 = [0,1,1]\n",
        "\n",
        "teste = [misterio1, misterio2, misterio3]\n",
        "previsoes = model.predict(teste)"
      ],
      "metadata": {
        "id": "ydqGfqHpd1WY"
      },
      "execution_count": 36,
      "outputs": []
    },
    {
      "cell_type": "code",
      "source": [
        "testes_classes = [0,1,1]"
      ],
      "metadata": {
        "id": "Pfu6DNTCeK1J"
      },
      "execution_count": 37,
      "outputs": []
    },
    {
      "cell_type": "code",
      "source": [
        "corretos = (previsoes == testes_classes).sum()\n",
        "total = len(teste)\n",
        "taxa_de_acertos = corretos/total\n",
        "print(\"Taxa de acerto: \", taxa_de_acertos * 100)"
      ],
      "metadata": {
        "colab": {
          "base_uri": "https://localhost:8080/"
        },
        "id": "OFAaulc21HTV",
        "outputId": "3dc19917-508c-4e3d-d667-4e9f71eda754"
      },
      "execution_count": 38,
      "outputs": [
        {
          "output_type": "stream",
          "name": "stdout",
          "text": [
            "Taxa de acerto:  100.0\n"
          ]
        }
      ]
    },
    {
      "cell_type": "code",
      "source": [
        "from sklearn.metrics import accuracy_score\n",
        "\n",
        "taxa_de_acerto = accuracy_score(testes_classes, previsoes)\n",
        "print(\"Taxa de acerto: \", taxa_de_acertos * 100)\n"
      ],
      "metadata": {
        "colab": {
          "base_uri": "https://localhost:8080/"
        },
        "id": "i7LweDtX1V04",
        "outputId": "80631fa0-afb0-43bc-9fd5-7790871f548d"
      },
      "execution_count": 39,
      "outputs": [
        {
          "output_type": "stream",
          "name": "stdout",
          "text": [
            "Taxa de acerto:  100.0\n"
          ]
        }
      ]
    },
    {
      "cell_type": "code",
      "source": [
        ""
      ],
      "metadata": {
        "id": "siZiQOl93OU8"
      },
      "execution_count": null,
      "outputs": []
    }
  ]
}